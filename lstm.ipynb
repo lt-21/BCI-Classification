{
 "nbformat": 4,
 "nbformat_minor": 2,
 "metadata": {
  "language_info": {
   "name": "python",
   "codemirror_mode": {
    "name": "ipython",
    "version": 3
   },
   "version": "3.7.4-final"
  },
  "orig_nbformat": 2,
  "file_extension": ".py",
  "mimetype": "text/x-python",
  "name": "python",
  "npconvert_exporter": "python",
  "pygments_lexer": "ipython3",
  "version": 3,
  "kernelspec": {
   "name": "python37464bitanaconda3virtualenv4d1d8b461d6a4699bf7db9d788d48898",
   "display_name": "Python 3.7.4 64-bit ('anaconda3': virtualenv)"
  }
 },
 "cells": [
  {
   "cell_type": "code",
   "execution_count": 1,
   "metadata": {},
   "outputs": [],
   "source": [
    "import pywt\n",
    "import numpy as np \n",
    "import matplotlib as mpl\n",
    "import matplotlib.pyplot as plt \n",
    "import seaborn as sns\n",
    "from scipy.io import loadmat\n",
    "from entropy import *\n",
    "from scipy import signal\n",
    ""
   ]
  },
  {
   "cell_type": "code",
   "execution_count": 2,
   "metadata": {},
   "outputs": [],
   "source": [
    "data = loadmat('BCI_2003_datasetIII.mat')\n",
    "X = data['x_train']\n",
    "y = data['y_train']\n",
    ""
   ]
  },
  {
   "cell_type": "code",
   "execution_count": 3,
   "metadata": {},
   "outputs": [
    {
     "output_type": "execute_result",
     "data": {
      "text/plain": "'\\nFeature Selection and Pre-processing\\n\\n'"
     },
     "metadata": {},
     "execution_count": 3
    }
   ],
   "source": [
    "\"\"\"\n",
    "Feature Selection and Pre-processing\n",
    "\n",
    "\"\"\"\n",
    "# Remove 0-3s from the signal\n",
    ""
   ]
  },
  {
   "cell_type": "code",
   "execution_count": 4,
   "metadata": {},
   "outputs": [
    {
     "output_type": "execute_result",
     "data": {
      "text/plain": "'\\nLSTM IMPLEMENTATION\\n\\n'"
     },
     "metadata": {},
     "execution_count": 4
    }
   ],
   "source": [
    "\"\"\"\n",
    "LSTM IMPLEMENTATION\n",
    "\n",
    "\"\"\"\n",
    ""
   ]
  },
  {
   "cell_type": "code",
   "execution_count": 5,
   "metadata": {},
   "outputs": [],
   "source": [
    "left_index = np.argwhere(y == 1)\n",
    "right_index = np.argwhere(y == 2)\n",
    ""
   ]
  },
  {
   "cell_type": "code",
   "execution_count": 6,
   "metadata": {},
   "outputs": [],
   "source": [
    "lidx = left_index[:,0]\n",
    "ridx = right_index[:,0]\n",
    "\n",
    "np.random.shuffle(lidx)\n",
    "np.random.shuffle(ridx)"
   ]
  },
  {
   "cell_type": "code",
   "execution_count": 7,
   "metadata": {},
   "outputs": [],
   "source": [
    "train_idx = np.concatenate((lidx[:56], ridx[:56]))\n",
    "test_idx = np.concatenate((lidx[56:], ridx[56:]))\n",
    ""
   ]
  },
  {
   "cell_type": "code",
   "execution_count": 8,
   "metadata": {},
   "outputs": [],
   "source": [
    "np.random.shuffle(train_idx)\n",
    "np.random.shuffle(test_idx)"
   ]
  },
  {
   "cell_type": "code",
   "execution_count": 9,
   "metadata": {},
   "outputs": [],
   "source": [
    "X_train, y_train = X[:,:,train_idx], y[train_idx]\n",
    "X_test, y_test = X[:,:,test_idx], y[test_idx]\n",
    ""
   ]
  },
  {
   "cell_type": "code",
   "execution_count": 10,
   "metadata": {},
   "outputs": [
    {
     "output_type": "execute_result",
     "data": {
      "text/plain": "(1152, 3, 112)"
     },
     "metadata": {},
     "execution_count": 10
    }
   ],
   "source": [
    "X_train.shape"
   ]
  },
  {
   "cell_type": "code",
   "execution_count": 12,
   "metadata": {},
   "outputs": [],
   "source": [
    "X_nn_train = np.zeros((112,100,3))\n",
    "X_nn_test = np.zeros((28,100,3))\n",
    "\n",
    "for i in range(112):\n",
    "    X_nn_train[i,:,:] = X_train[700:800,:,i]\n",
    "\n",
    "for i in range(28):\n",
    "    X_nn_test[i,:,:] = X_test[700:800,:,i]"
   ]
  },
  {
   "cell_type": "code",
   "execution_count": 13,
   "metadata": {},
   "outputs": [],
   "source": [
    "y_train[y_train == 1] = 0\n",
    "y_test[y_test == 1] = 0\n",
    "\n",
    "y_train[y_train == 2] = 1\n",
    "y_test[y_test == 2] = 1"
   ]
  },
  {
   "cell_type": "code",
   "execution_count": 22,
   "metadata": {},
   "outputs": [
    {
     "output_type": "stream",
     "name": "stdout",
     "text": "Model: \"sequential_3\"\n_________________________________________________________________\nLayer (type)                 Output Shape              Param #   \n=================================================================\nlstm_3 (LSTM)                (None, 100)               41600     \n_________________________________________________________________\ndropout_3 (Dropout)          (None, 100)               0         \n_________________________________________________________________\ndense_3 (Dense)              (None, 1)                 101       \n=================================================================\nTotal params: 41,701\nTrainable params: 41,701\nNon-trainable params: 0\n_________________________________________________________________\n"
    }
   ],
   "source": [
    "model.summary()"
   ]
  },
  {
   "cell_type": "code",
   "execution_count": 16,
   "metadata": {},
   "outputs": [
    {
     "output_type": "stream",
     "name": "stdout",
     "text": "Epoch 1/10\n112/112 [==============================] - 13s 119ms/step - loss: 0.6952 - accuracy: 0.4821\nEpoch 2/10\n112/112 [==============================] - 12s 109ms/step - loss: 0.6916 - accuracy: 0.5268\nEpoch 3/10\n112/112 [==============================] - 11s 102ms/step - loss: 0.6939 - accuracy: 0.4732\nEpoch 4/10\n112/112 [==============================] - 12s 104ms/step - loss: 0.6901 - accuracy: 0.5804\nEpoch 5/10\n112/112 [==============================] - 12s 105ms/step - loss: 0.8243 - accuracy: 0.5714\nEpoch 6/10\n112/112 [==============================] - 12s 107ms/step - loss: 0.6932 - accuracy: 0.5089\nEpoch 7/10\n112/112 [==============================] - 12s 106ms/step - loss: 0.6906 - accuracy: 0.5536\nEpoch 8/10\n112/112 [==============================] - 12s 107ms/step - loss: 0.6973 - accuracy: 0.5089\nEpoch 9/10\n112/112 [==============================] - 12s 105ms/step - loss: 0.6892 - accuracy: 0.5089\nEpoch 10/10\n112/112 [==============================] - 12s 106ms/step - loss: 0.6836 - accuracy: 0.5625\n"
    },
    {
     "output_type": "execute_result",
     "data": {
      "text/plain": "<keras.callbacks.callbacks.History at 0x1c526258d0>"
     },
     "metadata": {},
     "execution_count": 16
    }
   ],
   "source": [
    "from keras.models import Sequential\n",
    "from keras.layers import Dense\n",
    "from keras.layers import LSTM\n",
    "from keras.layers import Dropout\n",
    "\n",
    "\n",
    "# LSTM\n",
    "\n",
    "# define model\n",
    "model = Sequential()\n",
    "model.add(LSTM(50, activation='relu', return_sequences=True, input_shape=(n_steps, n_features)))\n",
    "model.add(LSTM(50, activation='relu'))\n",
    "model.add(Dense(1))\n",
    "\n",
    "model.compile(loss='mse', optimizer='adam', metrics='')\n",
    "model.fit(X_nn_train, y_train, batch_size=1, epochs= 10)"
   ]
  },
  {
   "cell_type": "code",
   "execution_count": 17,
   "metadata": {},
   "outputs": [
    {
     "output_type": "stream",
     "name": "stdout",
     "text": "28/28 [==============================] - 0s 13ms/step\n"
    }
   ],
   "source": [
    "\"\"\"\n",
    "TESTING\n",
    "\n",
    "\"\"\"\n",
    "score = model.evaluate(X_nn_test, y_test)\n",
    ""
   ]
  },
  {
   "cell_type": "code",
   "execution_count": 18,
   "metadata": {},
   "outputs": [
    {
     "output_type": "stream",
     "name": "stdout",
     "text": "[0.6845174431800842, 0.5357142686843872]\n"
    }
   ],
   "source": [
    "print(score)"
   ]
  },
  {
   "cell_type": "code",
   "execution_count": 19,
   "metadata": {},
   "outputs": [],
   "source": [
    "y_pred_nn = model.predict(X_nn_test)\n",
    "y_pred_nn  = np.ceil(y_pred_nn)"
   ]
  },
  {
   "cell_type": "code",
   "execution_count": 20,
   "metadata": {},
   "outputs": [
    {
     "output_type": "execute_result",
     "data": {
      "text/plain": "array([[ 0, 14],\n       [ 0, 14]])"
     },
     "metadata": {},
     "execution_count": 20
    }
   ],
   "source": [
    "from sklearn.metrics import accuracy_score, confusion_matrix\n",
    "\n",
    "confusion_matrix(y_test, y_pred_nn)"
   ]
  },
  {
   "cell_type": "code",
   "execution_count": null,
   "metadata": {},
   "outputs": [],
   "source": [
    "con"
   ]
  }
 ]
}